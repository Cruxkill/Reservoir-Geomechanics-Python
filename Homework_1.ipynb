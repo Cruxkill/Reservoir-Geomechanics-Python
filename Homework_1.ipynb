{
  "nbformat": 4,
  "nbformat_minor": 0,
  "metadata": {
    "colab": {
      "provenance": [],
      "toc_visible": true
    },
    "kernelspec": {
      "name": "python3",
      "display_name": "Python 3"
    },
    "language_info": {
      "name": "python"
    }
  },
  "cells": [
    {
      "cell_type": "markdown",
      "source": [
        "# **Reservoir Geomechanics**\n",
        "## Homework No. 1 – Overburden Stress and Porosity\n",
        "\n",
        "In this homework, you will be calculating the vertical stress (overburden stress) and porosity\n",
        "using two different datasets, one from a well in the Barnett shale in Texas, and the other from a\n",
        "well in the Gulf of Mexico (GOM). Both datasets will be used in future homework assignments.\n",
        "Utilize Matlab (recommended) or Excel for calculation and answer the questions below. Both\n",
        "datasets can be downloaded by clicking the right tab on the top of this page.\n",
        "Use the following units in your calculation: ‘ft’ for depth, ‘g/cm3 ’ for density, ‘psi’ for overburden\n",
        "stress and pore pressure, and ‘psi/ft’ for overburden stress gradient and pore pressure gradient.\n",
        "### I. Compute the overburden stress and the overburden gradient\n",
        "\n",
        "1. Make a plot of density versus depth\n",
        "• Barnett data – assume a reasonable surface density 1.8778 g/cm3 to extrapolate to the\n",
        "first measurement point.\n",
        "• GOM data – use a density of 1.0 g/cm3 from the surface to the sea floor (depth of 1000\n",
        "ft) and a formation density of 1.7 g/cm3 at the sea floor. Linearly interpolate the density\n",
        "between the sea floor and the depth at which the data starts (at the depth of 3515 ft).\n",
        "\n",
        "2. “Block” the log into 5 depth units by assuming an approximately constant density over a\n",
        "given range of depths. Compute and plot the averaged density in each block and your\n",
        "blocked density as a function of depth for each dataset.\n",
        "\n",
        "3. Calculate and plot the overburden stress as a function of depth using both the “blocked”\n",
        "log and the continuous densities for each dataset. On the same plot, show hydrostatic\n",
        "pore pressure 0.44 psi/ft versus depth as a reference. Use 9.8 m/s2 to approximate g, the\n",
        "acceleration due to gravity.\n",
        "\n",
        "4. Calculate the overburden gradient (overburden stress divided by the depth) for each data\n",
        "set using the continuous density data. Plot the overburden gradient versus depth.\n",
        "\n",
        "### II. Compute porosity from the density measurements\n",
        "Use the continuous density data and the formula rb = (1 - f) r matrix + f r fluid to compute porosity\n",
        "assuming full saturation of 1.0 g/cm3 water in the pores. Here f is the porosity. For r matrix , assume 2.7 g/cm 3 , which is a reasonable value for a mixture of qtz, feldspar, mica and clay. Plot porosity\n",
        "as a function of depth for each dataset.\n",
        "\n",
        "### III. Answer the questions on the page below\n",
        "Use the calculations from I and II to answer the questions on the page below. The answers will\n",
        "be posted a day after it is due. Numerical entry-type responses have a range of acceptable values\n",
        "and are graded electronically, so please adhere to the value of constants given here. We will\n",
        "specify the units that we want the answer in, so please do not write units in the answer, just write\n",
        "the number."
      ],
      "metadata": {
        "id": "qTaMxQuTCvxJ"
      }
    },
    {
      "cell_type": "markdown",
      "source": [
        "# Loading Data"
      ],
      "metadata": {
        "id": "heuCG4RdOsFn"
      }
    },
    {
      "cell_type": "markdown",
      "source": [
        "We will try to use Python for this task, as we already have a code in MatLab that solves the entire problem. We will start by connecting to the Google Drive unit and loading the data into some arrays.\n"
      ],
      "metadata": {
        "id": "CUr05Nl1D2nC"
      }
    },
    {
      "cell_type": "code",
      "source": [
        "from google.colab import drive\n",
        "drive.mount('/content/drive')"
      ],
      "metadata": {
        "colab": {
          "base_uri": "https://localhost:8080/"
        },
        "id": "089J6oN3EOz0",
        "outputId": "a5c357ff-48dd-47b4-dd23-ad6c957c3e38"
      },
      "execution_count": 185,
      "outputs": [
        {
          "output_type": "stream",
          "name": "stdout",
          "text": [
            "Drive already mounted at /content/drive; to attempt to forcibly remount, call drive.mount(\"/content/drive\", force_remount=True).\n"
          ]
        }
      ]
    },
    {
      "cell_type": "code",
      "source": [
        "import pandas as pd\n",
        "import matplotlib.pyplot as plt\n",
        "import numpy as np"
      ],
      "metadata": {
        "id": "hzThFG9WFbxu"
      },
      "execution_count": 186,
      "outputs": []
    },
    {
      "cell_type": "markdown",
      "source": [
        "The data sets we are going to work with are GulfMexico.dat and barnettSh.dat"
      ],
      "metadata": {
        "id": "bvq_ytUmEpEN"
      }
    },
    {
      "cell_type": "code",
      "source": [
        "gulfMexicoData = pd.read_csv('/content/drive/MyDrive/Reservoir Geomechanics Python/GulfMexico1.dat',sep='\\t')\n",
        "barnettData = pd.read_csv('/content/drive/MyDrive/Reservoir Geomechanics Python/barnettSh1.dat',sep='\\t')\n",
        "\n",
        "columnas = {'Depth(ft)':'Depth','Density (g/cc)':'Density'}\n",
        "barnettData = barnettData.rename(columns=columnas)\n",
        "gulfMexicoData = gulfMexicoData.rename(columns=columnas)\n",
        "\n",
        "gulfMexicoData\n",
        "barnettData"
      ],
      "metadata": {
        "colab": {
          "base_uri": "https://localhost:8080/",
          "height": 424
        },
        "id": "YaVW4wI-ETHJ",
        "outputId": "26e7058f-2d11-49ec-fc29-88704a2ad34d"
      },
      "execution_count": 187,
      "outputs": [
        {
          "output_type": "execute_result",
          "data": {
            "text/plain": [
              "        Depth  Density\n",
              "0       100.5   1.8778\n",
              "1       101.0   1.8709\n",
              "2       101.5   1.8317\n",
              "3       102.0   1.8363\n",
              "4       102.5   1.8500\n",
              "...       ...      ...\n",
              "12192  6196.5      NaN\n",
              "12193  6197.0      NaN\n",
              "12194  6197.5      NaN\n",
              "12195  6198.0      NaN\n",
              "12196  6198.5      NaN\n",
              "\n",
              "[12197 rows x 2 columns]"
            ],
            "text/html": [
              "\n",
              "  <div id=\"df-62453f17-db3b-4688-b2ee-4d8fe2ed0da5\">\n",
              "    <div class=\"colab-df-container\">\n",
              "      <div>\n",
              "<style scoped>\n",
              "    .dataframe tbody tr th:only-of-type {\n",
              "        vertical-align: middle;\n",
              "    }\n",
              "\n",
              "    .dataframe tbody tr th {\n",
              "        vertical-align: top;\n",
              "    }\n",
              "\n",
              "    .dataframe thead th {\n",
              "        text-align: right;\n",
              "    }\n",
              "</style>\n",
              "<table border=\"1\" class=\"dataframe\">\n",
              "  <thead>\n",
              "    <tr style=\"text-align: right;\">\n",
              "      <th></th>\n",
              "      <th>Depth</th>\n",
              "      <th>Density</th>\n",
              "    </tr>\n",
              "  </thead>\n",
              "  <tbody>\n",
              "    <tr>\n",
              "      <th>0</th>\n",
              "      <td>100.5</td>\n",
              "      <td>1.8778</td>\n",
              "    </tr>\n",
              "    <tr>\n",
              "      <th>1</th>\n",
              "      <td>101.0</td>\n",
              "      <td>1.8709</td>\n",
              "    </tr>\n",
              "    <tr>\n",
              "      <th>2</th>\n",
              "      <td>101.5</td>\n",
              "      <td>1.8317</td>\n",
              "    </tr>\n",
              "    <tr>\n",
              "      <th>3</th>\n",
              "      <td>102.0</td>\n",
              "      <td>1.8363</td>\n",
              "    </tr>\n",
              "    <tr>\n",
              "      <th>4</th>\n",
              "      <td>102.5</td>\n",
              "      <td>1.8500</td>\n",
              "    </tr>\n",
              "    <tr>\n",
              "      <th>...</th>\n",
              "      <td>...</td>\n",
              "      <td>...</td>\n",
              "    </tr>\n",
              "    <tr>\n",
              "      <th>12192</th>\n",
              "      <td>6196.5</td>\n",
              "      <td>NaN</td>\n",
              "    </tr>\n",
              "    <tr>\n",
              "      <th>12193</th>\n",
              "      <td>6197.0</td>\n",
              "      <td>NaN</td>\n",
              "    </tr>\n",
              "    <tr>\n",
              "      <th>12194</th>\n",
              "      <td>6197.5</td>\n",
              "      <td>NaN</td>\n",
              "    </tr>\n",
              "    <tr>\n",
              "      <th>12195</th>\n",
              "      <td>6198.0</td>\n",
              "      <td>NaN</td>\n",
              "    </tr>\n",
              "    <tr>\n",
              "      <th>12196</th>\n",
              "      <td>6198.5</td>\n",
              "      <td>NaN</td>\n",
              "    </tr>\n",
              "  </tbody>\n",
              "</table>\n",
              "<p>12197 rows × 2 columns</p>\n",
              "</div>\n",
              "      <button class=\"colab-df-convert\" onclick=\"convertToInteractive('df-62453f17-db3b-4688-b2ee-4d8fe2ed0da5')\"\n",
              "              title=\"Convert this dataframe to an interactive table.\"\n",
              "              style=\"display:none;\">\n",
              "        \n",
              "  <svg xmlns=\"http://www.w3.org/2000/svg\" height=\"24px\"viewBox=\"0 0 24 24\"\n",
              "       width=\"24px\">\n",
              "    <path d=\"M0 0h24v24H0V0z\" fill=\"none\"/>\n",
              "    <path d=\"M18.56 5.44l.94 2.06.94-2.06 2.06-.94-2.06-.94-.94-2.06-.94 2.06-2.06.94zm-11 1L8.5 8.5l.94-2.06 2.06-.94-2.06-.94L8.5 2.5l-.94 2.06-2.06.94zm10 10l.94 2.06.94-2.06 2.06-.94-2.06-.94-.94-2.06-.94 2.06-2.06.94z\"/><path d=\"M17.41 7.96l-1.37-1.37c-.4-.4-.92-.59-1.43-.59-.52 0-1.04.2-1.43.59L10.3 9.45l-7.72 7.72c-.78.78-.78 2.05 0 2.83L4 21.41c.39.39.9.59 1.41.59.51 0 1.02-.2 1.41-.59l7.78-7.78 2.81-2.81c.8-.78.8-2.07 0-2.86zM5.41 20L4 18.59l7.72-7.72 1.47 1.35L5.41 20z\"/>\n",
              "  </svg>\n",
              "      </button>\n",
              "      \n",
              "  <style>\n",
              "    .colab-df-container {\n",
              "      display:flex;\n",
              "      flex-wrap:wrap;\n",
              "      gap: 12px;\n",
              "    }\n",
              "\n",
              "    .colab-df-convert {\n",
              "      background-color: #E8F0FE;\n",
              "      border: none;\n",
              "      border-radius: 50%;\n",
              "      cursor: pointer;\n",
              "      display: none;\n",
              "      fill: #1967D2;\n",
              "      height: 32px;\n",
              "      padding: 0 0 0 0;\n",
              "      width: 32px;\n",
              "    }\n",
              "\n",
              "    .colab-df-convert:hover {\n",
              "      background-color: #E2EBFA;\n",
              "      box-shadow: 0px 1px 2px rgba(60, 64, 67, 0.3), 0px 1px 3px 1px rgba(60, 64, 67, 0.15);\n",
              "      fill: #174EA6;\n",
              "    }\n",
              "\n",
              "    [theme=dark] .colab-df-convert {\n",
              "      background-color: #3B4455;\n",
              "      fill: #D2E3FC;\n",
              "    }\n",
              "\n",
              "    [theme=dark] .colab-df-convert:hover {\n",
              "      background-color: #434B5C;\n",
              "      box-shadow: 0px 1px 3px 1px rgba(0, 0, 0, 0.15);\n",
              "      filter: drop-shadow(0px 1px 2px rgba(0, 0, 0, 0.3));\n",
              "      fill: #FFFFFF;\n",
              "    }\n",
              "  </style>\n",
              "\n",
              "      <script>\n",
              "        const buttonEl =\n",
              "          document.querySelector('#df-62453f17-db3b-4688-b2ee-4d8fe2ed0da5 button.colab-df-convert');\n",
              "        buttonEl.style.display =\n",
              "          google.colab.kernel.accessAllowed ? 'block' : 'none';\n",
              "\n",
              "        async function convertToInteractive(key) {\n",
              "          const element = document.querySelector('#df-62453f17-db3b-4688-b2ee-4d8fe2ed0da5');\n",
              "          const dataTable =\n",
              "            await google.colab.kernel.invokeFunction('convertToInteractive',\n",
              "                                                     [key], {});\n",
              "          if (!dataTable) return;\n",
              "\n",
              "          const docLinkHtml = 'Like what you see? Visit the ' +\n",
              "            '<a target=\"_blank\" href=https://colab.research.google.com/notebooks/data_table.ipynb>data table notebook</a>'\n",
              "            + ' to learn more about interactive tables.';\n",
              "          element.innerHTML = '';\n",
              "          dataTable['output_type'] = 'display_data';\n",
              "          await google.colab.output.renderOutput(dataTable, element);\n",
              "          const docLink = document.createElement('div');\n",
              "          docLink.innerHTML = docLinkHtml;\n",
              "          element.appendChild(docLink);\n",
              "        }\n",
              "      </script>\n",
              "    </div>\n",
              "  </div>\n",
              "  "
            ]
          },
          "metadata": {},
          "execution_count": 187
        }
      ]
    },
    {
      "cell_type": "markdown",
      "source": [
        "# Computing overburden stress and overburden gradient"
      ],
      "metadata": {
        "id": "DRdn-myePxjK"
      }
    },
    {
      "cell_type": "markdown",
      "source": [
        "We complete the data according to what's stated in the incise 1 \"...Barnett data – assume a reasonable surface density 1.8778 g/cm3 to extrapolate to the first measurement point. • GOM data – use a density of 1.0 g/cm3 from the surface to the sea floor (depth of 1000 ft) and a formation density of 1.7 g/cm3 at the sea floor. Linearly interpolate the density between the sea floor and the depth at which the data starts (at the depth of 3515 ft)...\""
      ],
      "metadata": {
        "id": "hdzGhU4mJHGk"
      }
    },
    {
      "cell_type": "code",
      "source": [
        "#Working a bit in our Barnett data set\n",
        "\n",
        "sampleSize = barnettData['Depth'][1] - barnettData['Depth'][0]\n",
        "depthSteps = ((barnettData['Depth'][0]-sampleSize)/sampleSize) + 1 #from 0 to first -1\n",
        "#lists initialization for iteration\n",
        "depthC = list(range(0,int(depthSteps)))\n",
        "densC = list(range(0,int(depthSteps)))\n",
        "#Since the first measured point is the same as the assumed density, im filling\n",
        "#the blanks with the same value of 1.8778\n",
        "for depth in depthC:\n",
        "  depthC[depth] = depthC[depth]/2\n",
        "  densC[depth] = 1.8778\n",
        "#I attach both lists to a dict which keys are the same as the DF we are working \n",
        "#with so I can handle it easier\n",
        "dataDict = {'Depth':depthC,'Density':densC}\n",
        "barnettData=pd.concat([pd.DataFrame(data=dataDict),barnettData],ignore_index=True)\n",
        "barnettData[200:203] #Barnett Data is ready"
      ],
      "metadata": {
        "colab": {
          "base_uri": "https://localhost:8080/",
          "height": 144
        },
        "id": "k9ZgUnswGCza",
        "outputId": "c94415e4-aebd-42d8-eac1-f91cfdde8181"
      },
      "execution_count": 188,
      "outputs": [
        {
          "output_type": "execute_result",
          "data": {
            "text/plain": [
              "     Depth  Density\n",
              "200  100.0   1.8778\n",
              "201  100.5   1.8778\n",
              "202  101.0   1.8709"
            ],
            "text/html": [
              "\n",
              "  <div id=\"df-0f99a399-206a-473d-bdc3-4a4a9e982e0d\">\n",
              "    <div class=\"colab-df-container\">\n",
              "      <div>\n",
              "<style scoped>\n",
              "    .dataframe tbody tr th:only-of-type {\n",
              "        vertical-align: middle;\n",
              "    }\n",
              "\n",
              "    .dataframe tbody tr th {\n",
              "        vertical-align: top;\n",
              "    }\n",
              "\n",
              "    .dataframe thead th {\n",
              "        text-align: right;\n",
              "    }\n",
              "</style>\n",
              "<table border=\"1\" class=\"dataframe\">\n",
              "  <thead>\n",
              "    <tr style=\"text-align: right;\">\n",
              "      <th></th>\n",
              "      <th>Depth</th>\n",
              "      <th>Density</th>\n",
              "    </tr>\n",
              "  </thead>\n",
              "  <tbody>\n",
              "    <tr>\n",
              "      <th>200</th>\n",
              "      <td>100.0</td>\n",
              "      <td>1.8778</td>\n",
              "    </tr>\n",
              "    <tr>\n",
              "      <th>201</th>\n",
              "      <td>100.5</td>\n",
              "      <td>1.8778</td>\n",
              "    </tr>\n",
              "    <tr>\n",
              "      <th>202</th>\n",
              "      <td>101.0</td>\n",
              "      <td>1.8709</td>\n",
              "    </tr>\n",
              "  </tbody>\n",
              "</table>\n",
              "</div>\n",
              "      <button class=\"colab-df-convert\" onclick=\"convertToInteractive('df-0f99a399-206a-473d-bdc3-4a4a9e982e0d')\"\n",
              "              title=\"Convert this dataframe to an interactive table.\"\n",
              "              style=\"display:none;\">\n",
              "        \n",
              "  <svg xmlns=\"http://www.w3.org/2000/svg\" height=\"24px\"viewBox=\"0 0 24 24\"\n",
              "       width=\"24px\">\n",
              "    <path d=\"M0 0h24v24H0V0z\" fill=\"none\"/>\n",
              "    <path d=\"M18.56 5.44l.94 2.06.94-2.06 2.06-.94-2.06-.94-.94-2.06-.94 2.06-2.06.94zm-11 1L8.5 8.5l.94-2.06 2.06-.94-2.06-.94L8.5 2.5l-.94 2.06-2.06.94zm10 10l.94 2.06.94-2.06 2.06-.94-2.06-.94-.94-2.06-.94 2.06-2.06.94z\"/><path d=\"M17.41 7.96l-1.37-1.37c-.4-.4-.92-.59-1.43-.59-.52 0-1.04.2-1.43.59L10.3 9.45l-7.72 7.72c-.78.78-.78 2.05 0 2.83L4 21.41c.39.39.9.59 1.41.59.51 0 1.02-.2 1.41-.59l7.78-7.78 2.81-2.81c.8-.78.8-2.07 0-2.86zM5.41 20L4 18.59l7.72-7.72 1.47 1.35L5.41 20z\"/>\n",
              "  </svg>\n",
              "      </button>\n",
              "      \n",
              "  <style>\n",
              "    .colab-df-container {\n",
              "      display:flex;\n",
              "      flex-wrap:wrap;\n",
              "      gap: 12px;\n",
              "    }\n",
              "\n",
              "    .colab-df-convert {\n",
              "      background-color: #E8F0FE;\n",
              "      border: none;\n",
              "      border-radius: 50%;\n",
              "      cursor: pointer;\n",
              "      display: none;\n",
              "      fill: #1967D2;\n",
              "      height: 32px;\n",
              "      padding: 0 0 0 0;\n",
              "      width: 32px;\n",
              "    }\n",
              "\n",
              "    .colab-df-convert:hover {\n",
              "      background-color: #E2EBFA;\n",
              "      box-shadow: 0px 1px 2px rgba(60, 64, 67, 0.3), 0px 1px 3px 1px rgba(60, 64, 67, 0.15);\n",
              "      fill: #174EA6;\n",
              "    }\n",
              "\n",
              "    [theme=dark] .colab-df-convert {\n",
              "      background-color: #3B4455;\n",
              "      fill: #D2E3FC;\n",
              "    }\n",
              "\n",
              "    [theme=dark] .colab-df-convert:hover {\n",
              "      background-color: #434B5C;\n",
              "      box-shadow: 0px 1px 3px 1px rgba(0, 0, 0, 0.15);\n",
              "      filter: drop-shadow(0px 1px 2px rgba(0, 0, 0, 0.3));\n",
              "      fill: #FFFFFF;\n",
              "    }\n",
              "  </style>\n",
              "\n",
              "      <script>\n",
              "        const buttonEl =\n",
              "          document.querySelector('#df-0f99a399-206a-473d-bdc3-4a4a9e982e0d button.colab-df-convert');\n",
              "        buttonEl.style.display =\n",
              "          google.colab.kernel.accessAllowed ? 'block' : 'none';\n",
              "\n",
              "        async function convertToInteractive(key) {\n",
              "          const element = document.querySelector('#df-0f99a399-206a-473d-bdc3-4a4a9e982e0d');\n",
              "          const dataTable =\n",
              "            await google.colab.kernel.invokeFunction('convertToInteractive',\n",
              "                                                     [key], {});\n",
              "          if (!dataTable) return;\n",
              "\n",
              "          const docLinkHtml = 'Like what you see? Visit the ' +\n",
              "            '<a target=\"_blank\" href=https://colab.research.google.com/notebooks/data_table.ipynb>data table notebook</a>'\n",
              "            + ' to learn more about interactive tables.';\n",
              "          element.innerHTML = '';\n",
              "          dataTable['output_type'] = 'display_data';\n",
              "          await google.colab.output.renderOutput(dataTable, element);\n",
              "          const docLink = document.createElement('div');\n",
              "          docLink.innerHTML = docLinkHtml;\n",
              "          element.appendChild(docLink);\n",
              "        }\n",
              "      </script>\n",
              "    </div>\n",
              "  </div>\n",
              "  "
            ]
          },
          "metadata": {},
          "execution_count": 188
        }
      ]
    },
    {
      "cell_type": "markdown",
      "source": [
        "We do the same for GOM, but in this case we have 2 densities to attach"
      ],
      "metadata": {
        "id": "-EoWSit7B4ub"
      }
    },
    {
      "cell_type": "code",
      "source": [
        "#Working a bit in our gulf of Mexico data set\n",
        "\n",
        "sampleSize = gulfMexicoData['Depth'][1] - gulfMexicoData['Depth'][0]\n",
        "depthSteps = ((gulfMexicoData['Depth'][0]-sampleSize)/sampleSize) + 1 #from 0 to first -1\n",
        "#lists initialization for iteration\n",
        "depthC = list(range(0,int(depthSteps)))\n",
        "densC = list(range(0,int(depthSteps)))\n",
        "#\n",
        "for depth in depthC:\n",
        "  if depthC[depth]<1000:\n",
        "    densC[depth] = 1.0\n",
        "  else:\n",
        "    densC[depth] = densC[depth-1] + (1.7-1.0)/(3515-1000) \n",
        "#I attach both lists to a dict which keys are the same as the DF we are working \n",
        "#with so I can handle it easier\n",
        "dataDict = {'Depth':depthC,'Density':densC}\n",
        "pd.DataFrame(data=dataDict)\n",
        "gulfMexicoData=pd.concat([pd.DataFrame(data=dataDict),gulfMexicoData],ignore_index=True)\n",
        "#gulfMexicoData[999:1003]\n",
        "gulfMexicoData[3514:3516] #gulf of Mexico Data is ready"
      ],
      "metadata": {
        "colab": {
          "base_uri": "https://localhost:8080/",
          "height": 112
        },
        "id": "34KJAC2TJ2JT",
        "outputId": "0c15c493-64b9-43ee-820a-094a8cb85360"
      },
      "execution_count": 189,
      "outputs": [
        {
          "output_type": "execute_result",
          "data": {
            "text/plain": [
              "      Depth  Density\n",
              "3514   3514    1.700\n",
              "3515   3515    2.154"
            ],
            "text/html": [
              "\n",
              "  <div id=\"df-f0e137ca-8cba-4624-b2e0-3ccaf9d4f927\">\n",
              "    <div class=\"colab-df-container\">\n",
              "      <div>\n",
              "<style scoped>\n",
              "    .dataframe tbody tr th:only-of-type {\n",
              "        vertical-align: middle;\n",
              "    }\n",
              "\n",
              "    .dataframe tbody tr th {\n",
              "        vertical-align: top;\n",
              "    }\n",
              "\n",
              "    .dataframe thead th {\n",
              "        text-align: right;\n",
              "    }\n",
              "</style>\n",
              "<table border=\"1\" class=\"dataframe\">\n",
              "  <thead>\n",
              "    <tr style=\"text-align: right;\">\n",
              "      <th></th>\n",
              "      <th>Depth</th>\n",
              "      <th>Density</th>\n",
              "    </tr>\n",
              "  </thead>\n",
              "  <tbody>\n",
              "    <tr>\n",
              "      <th>3514</th>\n",
              "      <td>3514</td>\n",
              "      <td>1.700</td>\n",
              "    </tr>\n",
              "    <tr>\n",
              "      <th>3515</th>\n",
              "      <td>3515</td>\n",
              "      <td>2.154</td>\n",
              "    </tr>\n",
              "  </tbody>\n",
              "</table>\n",
              "</div>\n",
              "      <button class=\"colab-df-convert\" onclick=\"convertToInteractive('df-f0e137ca-8cba-4624-b2e0-3ccaf9d4f927')\"\n",
              "              title=\"Convert this dataframe to an interactive table.\"\n",
              "              style=\"display:none;\">\n",
              "        \n",
              "  <svg xmlns=\"http://www.w3.org/2000/svg\" height=\"24px\"viewBox=\"0 0 24 24\"\n",
              "       width=\"24px\">\n",
              "    <path d=\"M0 0h24v24H0V0z\" fill=\"none\"/>\n",
              "    <path d=\"M18.56 5.44l.94 2.06.94-2.06 2.06-.94-2.06-.94-.94-2.06-.94 2.06-2.06.94zm-11 1L8.5 8.5l.94-2.06 2.06-.94-2.06-.94L8.5 2.5l-.94 2.06-2.06.94zm10 10l.94 2.06.94-2.06 2.06-.94-2.06-.94-.94-2.06-.94 2.06-2.06.94z\"/><path d=\"M17.41 7.96l-1.37-1.37c-.4-.4-.92-.59-1.43-.59-.52 0-1.04.2-1.43.59L10.3 9.45l-7.72 7.72c-.78.78-.78 2.05 0 2.83L4 21.41c.39.39.9.59 1.41.59.51 0 1.02-.2 1.41-.59l7.78-7.78 2.81-2.81c.8-.78.8-2.07 0-2.86zM5.41 20L4 18.59l7.72-7.72 1.47 1.35L5.41 20z\"/>\n",
              "  </svg>\n",
              "      </button>\n",
              "      \n",
              "  <style>\n",
              "    .colab-df-container {\n",
              "      display:flex;\n",
              "      flex-wrap:wrap;\n",
              "      gap: 12px;\n",
              "    }\n",
              "\n",
              "    .colab-df-convert {\n",
              "      background-color: #E8F0FE;\n",
              "      border: none;\n",
              "      border-radius: 50%;\n",
              "      cursor: pointer;\n",
              "      display: none;\n",
              "      fill: #1967D2;\n",
              "      height: 32px;\n",
              "      padding: 0 0 0 0;\n",
              "      width: 32px;\n",
              "    }\n",
              "\n",
              "    .colab-df-convert:hover {\n",
              "      background-color: #E2EBFA;\n",
              "      box-shadow: 0px 1px 2px rgba(60, 64, 67, 0.3), 0px 1px 3px 1px rgba(60, 64, 67, 0.15);\n",
              "      fill: #174EA6;\n",
              "    }\n",
              "\n",
              "    [theme=dark] .colab-df-convert {\n",
              "      background-color: #3B4455;\n",
              "      fill: #D2E3FC;\n",
              "    }\n",
              "\n",
              "    [theme=dark] .colab-df-convert:hover {\n",
              "      background-color: #434B5C;\n",
              "      box-shadow: 0px 1px 3px 1px rgba(0, 0, 0, 0.15);\n",
              "      filter: drop-shadow(0px 1px 2px rgba(0, 0, 0, 0.3));\n",
              "      fill: #FFFFFF;\n",
              "    }\n",
              "  </style>\n",
              "\n",
              "      <script>\n",
              "        const buttonEl =\n",
              "          document.querySelector('#df-f0e137ca-8cba-4624-b2e0-3ccaf9d4f927 button.colab-df-convert');\n",
              "        buttonEl.style.display =\n",
              "          google.colab.kernel.accessAllowed ? 'block' : 'none';\n",
              "\n",
              "        async function convertToInteractive(key) {\n",
              "          const element = document.querySelector('#df-f0e137ca-8cba-4624-b2e0-3ccaf9d4f927');\n",
              "          const dataTable =\n",
              "            await google.colab.kernel.invokeFunction('convertToInteractive',\n",
              "                                                     [key], {});\n",
              "          if (!dataTable) return;\n",
              "\n",
              "          const docLinkHtml = 'Like what you see? Visit the ' +\n",
              "            '<a target=\"_blank\" href=https://colab.research.google.com/notebooks/data_table.ipynb>data table notebook</a>'\n",
              "            + ' to learn more about interactive tables.';\n",
              "          element.innerHTML = '';\n",
              "          dataTable['output_type'] = 'display_data';\n",
              "          await google.colab.output.renderOutput(dataTable, element);\n",
              "          const docLink = document.createElement('div');\n",
              "          docLink.innerHTML = docLinkHtml;\n",
              "          element.appendChild(docLink);\n",
              "        }\n",
              "      </script>\n",
              "    </div>\n",
              "  </div>\n",
              "  "
            ]
          },
          "metadata": {},
          "execution_count": 189
        }
      ]
    },
    {
      "cell_type": "code",
      "source": [
        "densityGraphs , (plot1,plot2) = plt.subplots(1, 2)\n",
        "\n",
        "plot1.plot(barnettData['Density'],barnettData['Depth'])\n",
        "plot1.set_title('Barnett shale Density')\n",
        "plot1.invert_yaxis()\n",
        "\n",
        "plot2.plot(gulfMexicoData['Density'],gulfMexicoData['Depth'])\n",
        "plot2.set_title('GOM Density')\n",
        "plot2.invert_yaxis()\n",
        "plt.show()"
      ],
      "metadata": {
        "colab": {
          "base_uri": "https://localhost:8080/",
          "height": 452
        },
        "id": "MoRe8OBaE3Rk",
        "outputId": "418d4d10-969d-4ca4-f9e5-ea4d2c6cc4c3"
      },
      "execution_count": 216,
      "outputs": [
        {
          "output_type": "display_data",
          "data": {
            "text/plain": [
              "<Figure size 640x480 with 2 Axes>"
            ],
            "image/png": "[encoded data removed]"
          },
          "metadata": {}
        }
      ]
    },
    {
      "cell_type": "code",
      "source": [],
      "metadata": {
        "id": "zSvW-kctNyzX"
      },
      "execution_count": null,
      "outputs": []
    }
  ]
}